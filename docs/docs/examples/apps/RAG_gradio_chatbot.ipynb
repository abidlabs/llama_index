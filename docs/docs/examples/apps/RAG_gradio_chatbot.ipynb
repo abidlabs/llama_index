{
 "cells": [
  {
   "cell_type": "markdown",
   "metadata": {},
   "source": [
    "# The Llama Index RAG Chatbot\n",
    "\n",
    "This chatbot allows users to upload PDF and text files and ask questions about their contents using RAG (Retrieval Augmented Generation). The chatbot uses Llama Index to index the documents and retrieve relevant information to answer user queries, all wrapped in a simple Gradio interface."
   ]
  },
  {
   "cell_type": "code",
   "execution_count": 4,
   "metadata": {},
   "outputs": [
    {
     "name": "stdout",
     "output_type": "stream",
     "text": [
      "* Running on local URL:  http://127.0.0.1:7866\n",
      "\n",
      "To create a public link, set `share=True` in `launch()`.\n"
     ]
    },
    {
     "data": {
      "text/html": [
       "<div><iframe src=\"http://127.0.0.1:7866/\" width=\"100%\" height=\"500\" allow=\"autoplay; camera; microphone; clipboard-read; clipboard-write;\" frameborder=\"0\" allowfullscreen></iframe></div>"
      ],
      "text/plain": [
       "<IPython.core.display.HTML object>"
      ]
     },
     "metadata": {},
     "output_type": "display_data"
    }
   ],
   "source": [
    "from llama_index.core import VectorStoreIndex, SimpleDirectoryReader\n",
    "import gradio as gr\n",
    "\n",
    "def answer(message, history):\n",
    "    if not message[\"files\"]:\n",
    "        return \"Please upload at least one file.\"\n",
    "\n",
    "    files = []\n",
    "    for msg in history:\n",
    "        if msg['role'] == \"user\" and isinstance(msg['content'], tuple):\n",
    "            files.append(msg['content'][0])\n",
    "    for file in message[\"files\"]:\n",
    "        files.append(file)\n",
    "\n",
    "    documents = SimpleDirectoryReader(input_files=files).load_data()\n",
    "    index = VectorStoreIndex.from_documents(documents)\n",
    "    query_engine = index.as_query_engine()\n",
    "    return str(query_engine.query(message[\"text\"]))\n",
    "\n",
    "demo = gr.ChatInterface(\n",
    "    answer,\n",
    "    type=\"messages\",\n",
    "    title=\"Llama Index RAG Chatbot\",\n",
    "    description=\"Upload any text or pdf files and ask questions about them!\",\n",
    "    textbox=gr.MultimodalTextbox(file_types=[\".pdf\", \".txt\"], file_count=\"multiple\"),\n",
    "    multimodal=True\n",
    ")\n",
    "\n",
    "if __name__ == \"__main__\":\n",
    "    demo.launch()"
   ]
  }
 ],
 "metadata": {
  "kernelspec": {
   "display_name": "Python 3",
   "language": "python",
   "name": "python3"
  },
  "language_info": {
   "codemirror_mode": {
    "name": "ipython",
    "version": 3
   },
   "file_extension": ".py",
   "mimetype": "text/x-python",
   "name": "python",
   "nbconvert_exporter": "python",
   "pygments_lexer": "ipython3",
   "version": "3.12.2"
  }
 },
 "nbformat": 4,
 "nbformat_minor": 2
}
